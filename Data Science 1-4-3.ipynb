{
 "cells": [
  {
   "cell_type": "markdown",
   "metadata": {},
   "source": [
    "## \"You're testing advertising emails for a bathing suit company and you test one version of the email in February and the other in May.\""
   ]
  },
  {
   "cell_type": "markdown",
   "metadata": {},
   "source": [
    "One is advertised in the winter as opposed to the spring where the sun is out and the temperature is hotter. This would likely result in a biased result as people are less inclined to buy a swimsuit during the winter. "
   ]
  },
  {
   "cell_type": "markdown",
   "metadata": {},
   "source": [
    "## \"You open a clinic to treat anxiety and find that the people who visit show a higher rate of anxiety than the general population.\""
   ]
  },
  {
   "cell_type": "markdown",
   "metadata": {},
   "source": [
    "A large amount of the population is uncomfortable with sharing their personal issues such as having anxiety. There is some bias within this in that people who show up personally aer trying to get their anxiety suppressed and understand their current state. "
   ]
  },
  {
   "cell_type": "markdown",
   "metadata": {},
   "source": [
    "## \"You launch a new ad billboard based campaign and see an increase in website visits in the first week.\" "
   ]
  },
  {
   "cell_type": "markdown",
   "metadata": {},
   "source": [
    "The website visits could have been a completely different factor than the new ad campaign. "
   ]
  },
  {
   "cell_type": "markdown",
   "metadata": {},
   "source": [
    "## \"You launch a loyalty program but see no change in visits in the first week.\""
   ]
  },
  {
   "cell_type": "markdown",
   "metadata": {},
   "source": [
    "Regualr visitors may be under the assumption that the loyalty program already applies to them as they've assumed they're already enrolled because to them, they've been loyal already."
   ]
  }
 ],
 "metadata": {
  "kernelspec": {
   "display_name": "Python 3",
   "language": "python",
   "name": "python3"
  },
  "language_info": {
   "codemirror_mode": {
    "name": "ipython",
    "version": 3
   },
   "file_extension": ".py",
   "mimetype": "text/x-python",
   "name": "python",
   "nbconvert_exporter": "python",
   "pygments_lexer": "ipython3",
   "version": "3.6.5"
  }
 },
 "nbformat": 4,
 "nbformat_minor": 2
}
