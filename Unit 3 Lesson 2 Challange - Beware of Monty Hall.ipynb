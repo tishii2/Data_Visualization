{
 "cells": [
  {
   "cell_type": "code",
   "execution_count": null,
   "metadata": {},
   "outputs": [],
   "source": [
    "#After the host opens the door that you didn't pick and reveals a dud. Your probablity of choosing the fantastic \n",
    "#prize automatically increases to 50%. At that point, statistics wise it doesn't matter whether you switch doors or not\n",
    "#you'll still have a 50% chance of choosing the right door. It's worth noting that this is a dependent or conditional \n",
    "#for each of the results depends on one another. "
   ]
  }
 ],
 "metadata": {
  "kernelspec": {
   "display_name": "Python 3",
   "language": "python",
   "name": "python3"
  },
  "language_info": {
   "codemirror_mode": {
    "name": "ipython",
    "version": 3
   },
   "file_extension": ".py",
   "mimetype": "text/x-python",
   "name": "python",
   "nbconvert_exporter": "python",
   "pygments_lexer": "ipython3",
   "version": "3.6.5"
  }
 },
 "nbformat": 4,
 "nbformat_minor": 2
}
