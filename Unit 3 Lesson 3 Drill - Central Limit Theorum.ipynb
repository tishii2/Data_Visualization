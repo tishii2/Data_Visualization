{
 "cells": [
  {
   "cell_type": "code",
   "execution_count": 2,
   "metadata": {},
   "outputs": [],
   "source": [
    "import numpy as np\n",
    "import pandas as pd\n",
    "import matplotlib.pyplot as plt\n",
    "%matplotlib inline"
   ]
  },
  {
   "cell_type": "code",
   "execution_count": 3,
   "metadata": {},
   "outputs": [],
   "source": [
    "pop1 = np.random.binomial(10, 0.2, 100)\n",
    "pop2 = np.random.binomial(10, 0.5, 100)"
   ]
  },
  {
   "cell_type": "code",
   "execution_count": 16,
   "metadata": {},
   "outputs": [],
   "source": [
    "sample1 = np.random.choice(pop1, 1000, replace=True)\n",
    "sample2 = np.random.choice(pop2, 1000, replace=True)"
   ]
  },
  {
   "cell_type": "code",
   "execution_count": 22,
   "metadata": {},
   "outputs": [
    {
     "name": "stdout",
     "output_type": "stream",
     "text": [
      "Sample1 Mean:  3.85\n",
      "Sample1 Standard Deviation:  1.1521718621802912\n",
      "Sample2 Mean:  4.7\n",
      "Sample2 Standard Deviation:  1.3076696830622019\n"
     ]
    },
    {
     "data": {
      "image/png": "[encoded data removed]",
      "text/plain": [
       "<Figure size 432x288 with 1 Axes>"
      ]
     },
     "metadata": {},
     "output_type": "display_data"
    }
   ],
   "source": [
    "print('Sample1 Mean: ', sample1.mean())\n",
    "print('Sample1 Standard Deviation: ', sample1.std())\n",
    "\n",
    "print('Sample2 Mean: ', sample2.mean())\n",
    "print('Sample2 Standard Deviation: ', sample2.std())\n",
    "plt.hist(sample1, alpha=0.5)\n",
    "plt.hist(sample2, alpha=0.5)\n",
    "plt.show()"
   ]
  },
  {
   "cell_type": "code",
   "execution_count": 18,
   "metadata": {},
   "outputs": [],
   "source": [
    "sample1 = np.random.choice(pop1, 20, replace=True)\n",
    "sample2 = np.random.choice(pop2, 20, replace=True)"
   ]
  },
  {
   "cell_type": "code",
   "execution_count": 21,
   "metadata": {},
   "outputs": [
    {
     "name": "stdout",
     "output_type": "stream",
     "text": [
      "Sample1 Mean:  3.85\n",
      "Sample1 Standard Deviation:  1.1521718621802912\n",
      "Sample2 Mean:  4.7\n",
      "Sample2 Standard Deviation:  1.3076696830622019\n"
     ]
    },
    {
     "data": {
      "image/png": "[encoded data removed]",
      "text/plain": [
       "<Figure size 432x288 with 1 Axes>"
      ]
     },
     "metadata": {},
     "output_type": "display_data"
    }
   ],
   "source": [
    "print('Sample1 Mean: ', sample1.mean())\n",
    "print('Sample1 Standard Deviation: ', sample1.std())\n",
    "\n",
    "print('Sample2 Mean: ', sample2.mean())\n",
    "print('Sample2 Standard Deviation: ', sample2.std())\n",
    "plt.hist(sample1, alpha=0.5)\n",
    "plt.hist(sample2, alpha=0.5)\n",
    "plt.show()"
   ]
  },
  {
   "cell_type": "code",
   "execution_count": 23,
   "metadata": {},
   "outputs": [],
   "source": [
    "pop1 = np.random.binomial(10, .3, 100)\n",
    "pop2 = np.random.binomial(10, .5, 100)"
   ]
  },
  {
   "cell_type": "code",
   "execution_count": 11,
   "metadata": {},
   "outputs": [
    {
     "name": "stdout",
     "output_type": "stream",
     "text": [
      "Pop1 Mean:  2.3\n",
      "pop1 Standard Deviation:  1.1874342087037917\n",
      "Pop2 Mean:  4.55\n",
      "Pop2 Standard Deviation:  1.883480820183736\n"
     ]
    }
   ],
   "source": [
    "print('Pop1 Mean: ', pop1.mean())\n",
    "print('pop1 Standard Deviation: ', pop1.std())\n",
    "\n",
    "print('Pop2 Mean: ', pop2.mean())\n",
    "print('Pop2 Standard Deviation: ', pop2.std())\n",
    "plt.hist()"
   ]
  },
  {
   "cell_type": "code",
   "execution_count": 24,
   "metadata": {},
   "outputs": [
    {
     "name": "stdout",
     "output_type": "stream",
     "text": [
      "Ttest_indResult(statistic=12.253687843853502, pvalue=4.8832663630979216e-26)\n"
     ]
    }
   ],
   "source": [
    "pop1 = np.random.binomial(10, .3, 20)\n",
    "pop2 = np.random.binomial(10, .5, 20)\n",
    "\n",
    "sample1 = np.random.choice(pop1, 100, replace=True)\n",
    "sample2 = np.random.choice(pop2, 100, replace=True)\n",
    "\n",
    "from scipy.stats import ttest_ind\n",
    "print(ttest_ind(sample2, sample1, equal_var=False))"
   ]
  },
  {
   "cell_type": "code",
   "execution_count": 25,
   "metadata": {},
   "outputs": [
    {
     "name": "stdout",
     "output_type": "stream",
     "text": [
      "Ttest_indResult(statistic=4.541854034754108, pvalue=9.699827058125958e-06)\n"
     ]
    }
   ],
   "source": [
    "pop1 = np.random.binomial(10, 0.4, 10000)\n",
    "pop2 = np.random.binomial(10,0.5, 10000) \n",
    "\n",
    "\n",
    "sample1 = np.random.choice(pop1, 100, replace=True)\n",
    "sample2 = np.random.choice(pop2, 100, replace=True)\n",
    "\n",
    "from scipy.stats import ttest_ind\n",
    "print(ttest_ind(sample2, sample1, equal_var=False))"
   ]
  },
  {
   "cell_type": "code",
   "execution_count": null,
   "metadata": {},
   "outputs": [],
   "source": []
  }
 ],
 "metadata": {
  "kernelspec": {
   "display_name": "Python 3",
   "language": "python",
   "name": "python3"
  },
  "language_info": {
   "codemirror_mode": {
    "name": "ipython",
    "version": 3
   },
   "file_extension": ".py",
   "mimetype": "text/x-python",
   "name": "python",
   "nbconvert_exporter": "python",
   "pygments_lexer": "ipython3",
   "version": "3.6.5"
  }
 },
 "nbformat": 4,
 "nbformat_minor": 2
}
