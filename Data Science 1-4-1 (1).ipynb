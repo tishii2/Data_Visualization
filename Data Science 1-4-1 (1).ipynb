{
 "cells": [
  {
   "cell_type": "markdown",
   "metadata": {},
   "source": [
    "## \"Does a new supplement help people sleep better?\""
   ]
  },
  {
   "cell_type": "markdown",
   "metadata": {},
   "source": [
    "Two Versions: Users who recieve a placebo supplement and users who recieve the new supplement. \n",
    "\n",
    "A Sample: People who work 9-5 jobs and go to sleep and wake up at around the same time every morning. Allowing for the least amount of error in our results as possible.\n",
    "\n",
    "A hypothesis: I expect the users who recieve the new supplement to sleep better than those who recieve the placebo supplemment. \n",
    "\n",
    "Outcome(s): I expect the users' energy levels in the morning to be significantly better than those who recieved the placebo supplement. We'll measure this by measuring the amount of time it takes the user to get ready in the morning for if they're more energized, they'll move faster and quicker. \n",
    "\n",
    "Other Measured Variables: The amount they move during sleep as well as the times it takes the user to reach certain sleep stages could be measured."
   ]
  },
  {
   "cell_type": "markdown",
   "metadata": {},
   "source": [
    "## \"Will new uniforms help a gym's business?\""
   ]
  },
  {
   "cell_type": "markdown",
   "metadata": {},
   "source": [
    "The control version is the number of members without the new unifroms while the test version is the number of members with the new uniforms. The sample will be based off of a survey handed to new users about why they joined with employee organization being one of them. This A/B test could take some time as it would be unlikely there would be an immediate effect to new uniforms and registration statistics. \n",
    "\n",
    "Two Versions: Employees wearing the new uniform and employees not wearing the new uniform. \n",
    "\n",
    "A Sample: Average Gym go-ers.\n",
    "\n",
    "A hypothesis: I expect the new uniforms to help a gym's business for it will display a sense of organization and eliteness within outsiders. \n",
    "\n",
    "Outcome(s): I expect there to be a slight increase in the gym's business as there will be some new registrations. I think the outlook of an organized, well outfitted gym is a crucial part in generating interest from those who aren't already a member. \n",
    "\n",
    "Other Measured Variables: Other measured variables could be the trend of gym membership registrations at certain times of the year. There's always an increase in registrations at the beginning of the year. "
   ]
  },
  {
   "cell_type": "markdown",
   "metadata": {},
   "source": [
    "## \"Will a new homepage improve my online exotic pet rental business?\""
   ]
  },
  {
   "cell_type": "markdown",
   "metadata": {},
   "source": [
    "The control version is the number of rentals before the improved homepage, while the test version is the number of rentals with the improved homepage. The sample will be based off of the number of users who complete a rental starting from the homepage as opposed to searching for specific exotic pets and going straight to a page from a search engine results page. \n",
    "\n",
    "Two Versions: Revenue with the old homepage. Revenue with the new homepage. \n",
    "\n",
    "A Sample: Users who own a computer and currently own an exotic pet already or people who are in the market for one. \n",
    "\n",
    "A hypothesis: I believe that a new homepage will improve an exotic pet rentall business for users will be more likely to trust a website with a well organized homepage rather than one that is outdated and not well developed. \n",
    "\n",
    "Outcome(s): The improved homepage imporved the online pet rental business. Users' time sessions on the page increased with the new homepage which ultimately resulted in more rental requests. \n",
    "\n",
    "Other Measured Variables: The time of year, along with the number of clicks it took each user who rented an exotic pet would be useful in figuring out how to imporve the page flow chart. "
   ]
  },
  {
   "cell_type": "markdown",
   "metadata": {},
   "source": [
    "## \"If I put 'please read' in the email subject will more people read my emails?\""
   ]
  },
  {
   "cell_type": "markdown",
   "metadata": {},
   "source": [
    "The control version will be the number of people who open the email regardless of the subject change, while the test version will be the number of users who open the page after the subject change. The sample will be based off of those who consistantly have ignored previous emails but opened them after changing the subject. \n",
    "\n",
    "Two Versions: An email sent out without \"Please Read\" and an email sent out with \"Please Read\"\n",
    "\n",
    "A Sample: People who you regularly send emails to regardless of if you get a response from them or not.\n",
    "\n",
    "A hypothesis: I believe that putting 'Please Read' in emials will improve the number of people who read the emails. Putting please read will add a sense of urgency. \n",
    "\n",
    "Outcome(s): The key metric for this test would be the time spent after opening the email. This will show if the user actually reads the email or if they opened it and closed it. \n",
    "\n",
    "Other Measured Variables: Response rate could be another way to record if people read the email or not. "
   ]
  },
  {
   "cell_type": "code",
   "execution_count": null,
   "metadata": {},
   "outputs": [],
   "source": []
  }
 ],
 "metadata": {
  "kernelspec": {
   "display_name": "Python 3",
   "language": "python",
   "name": "python3"
  },
  "language_info": {
   "codemirror_mode": {
    "name": "ipython",
    "version": 3
   },
   "file_extension": ".py",
   "mimetype": "text/x-python",
   "name": "python",
   "nbconvert_exporter": "python",
   "pygments_lexer": "ipython3",
   "version": "3.6.5"
  }
 },
 "nbformat": 4,
 "nbformat_minor": 2
}
