{
 "cells": [
  {
   "cell_type": "markdown",
   "metadata": {},
   "source": [
    "## \"Does a new supplement help people sleep better?\""
   ]
  },
  {
   "cell_type": "markdown",
   "metadata": {},
   "source": [
    "The control version for this could be users who are put to bed with a placebo supplement while the test version is given the actual supplement. The sample should be a random group of people with the same number of similar age people in both groups. "
   ]
  },
  {
   "cell_type": "markdown",
   "metadata": {},
   "source": [
    "## \"Will new uniforms help a gym's business?\""
   ]
  },
  {
   "cell_type": "markdown",
   "metadata": {},
   "source": [
    "The control version is the number of members without the new unifroms while the test version is the number of members with the new uniforms. The sample will be based off of a survey handed to new users about why they joined with employee organization being one of them. This A/B test could take some time as it would be unlikely there would be an immediate effect to new uniforms and registration statistics. "
   ]
  },
  {
   "cell_type": "markdown",
   "metadata": {},
   "source": [
    "## \"Will a new homepage improve my online exotic pet rental business?\""
   ]
  },
  {
   "cell_type": "markdown",
   "metadata": {},
   "source": [
    "The control version is the number of rentals before the improved homepage, while the test version is the number of rentals with the improved homepage. The sample will be based off of the number of users who complete a rental starting from the homepage as opposed to searching for specific exotic pets and going straight to a page from a search engine results page. "
   ]
  },
  {
   "cell_type": "markdown",
   "metadata": {},
   "source": [
    "## \"If I put 'please read' in the email subject will more people read my emails?\""
   ]
  },
  {
   "cell_type": "markdown",
   "metadata": {},
   "source": [
    "The control version will be the number of people who open the email regardless of the subject change, while the test version will be the number of users who open the page after the subject change. The sample will be based off of those who consistantly have ignored previous emails but opened them after changing the subject. "
   ]
  },
  {
   "cell_type": "code",
   "execution_count": null,
   "metadata": {},
   "outputs": [],
   "source": []
  }
 ],
 "metadata": {
  "kernelspec": {
   "display_name": "Python 3",
   "language": "python",
   "name": "python3"
  },
  "language_info": {
   "codemirror_mode": {
    "name": "ipython",
    "version": 3
   },
   "file_extension": ".py",
   "mimetype": "text/x-python",
   "name": "python",
   "nbconvert_exporter": "python",
   "pygments_lexer": "ipython3",
   "version": "3.6.5"
  }
 },
 "nbformat": 4,
 "nbformat_minor": 2
}
