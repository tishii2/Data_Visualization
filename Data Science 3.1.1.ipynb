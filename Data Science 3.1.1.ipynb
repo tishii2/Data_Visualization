{
 "cells": [
  {
   "cell_type": "markdown",
   "metadata": {},
   "source": [
    "## KNN Classifier"
   ]
  },
  {
   "cell_type": "markdown",
   "metadata": {},
   "source": [
    "### Challenge: Implement the Nearest Neighbor algorithm"
   ]
  },
  {
   "cell_type": "code",
   "execution_count": 1,
   "metadata": {},
   "outputs": [],
   "source": [
    "import math\n",
    "import numpy as np\n",
    "import pandas as pd\n",
    "import matplotlib.pyplot as plt\n",
    "import scipy\n",
    "%matplotlib inline"
   ]
  },
  {
   "cell_type": "code",
   "execution_count": 2,
   "metadata": {},
   "outputs": [],
   "source": [
    "#Data Set\n",
    "music = pd.DataFrame()\n",
    "\n",
    "music['duration'] = [184, 134, 243, 186, 122, 197, 294, 382, 102, 264, \n",
    "                     205, 110, 307, 110, 397, 153, 190, 192, 210, 403,\n",
    "                     164, 198, 204, 253, 234, 190, 182, 401, 376, 102]\n",
    "\n",
    "music['loudness'] = [18, 34, 43, 36, 22, 9, 29, 22, 10, 24, \n",
    "                     20, 10, 17, 51, 7, 13, 19, 12, 21, 22,\n",
    "                     16, 18, 4, 23, 34, 19, 14, 11, 37, 42]\n",
    "\n",
    "music['jazz'] = [ 1, 0, 0, 0, 1, 1, 0, 1, 1, 0,\n",
    "                  0, 1, 1, 0, 1, 1, 0, 1, 1, 1,\n",
    "                  1, 1, 1, 1, 0, 0, 1, 1, 0, 0]"
   ]
  },
  {
   "cell_type": "code",
   "execution_count": 3,
   "metadata": {},
   "outputs": [],
   "source": [
    "# Nearest Neighbor Algorithm\n",
    "\n",
    "def nearest_neighbor(a, b):\n",
    "    \n",
    "    # set starting shortest dist arbitrarily high\n",
    "    shortest_dist = 1000\n",
    "    # create empty list store index of shortest distance\n",
    "    index_shortest_dist = []\n",
    "    \n",
    "    # iterate through duration and loudness values in dataframe\n",
    "    for index, row in music.iterrows():\n",
    "        duration = row['duration']\n",
    "        loudness = row['loudness']\n",
    "    \n",
    "        # find distance between all points\n",
    "        dist = np.sqrt((a-duration)**2 + (b-loudness**2))      \n",
    "    \n",
    "        # determine shortest distance and store index\n",
    "        if dist < shortest_dist:\n",
    "            shortest_dist = dist \n",
    "            index_shortest_dist = index\n",
    "    return music.iloc[index_shortest_dist]['jazz']"
   ]
  },
  {
   "cell_type": "code",
   "execution_count": 6,
   "metadata": {},
   "outputs": [
    {
     "name": "stdout",
     "output_type": "stream",
     "text": [
      "From scratch result: 1\n"
     ]
    },
    {
     "name": "stderr",
     "output_type": "stream",
     "text": [
      "/anaconda3/lib/python3.6/site-packages/ipykernel_launcher.py:16: RuntimeWarning: invalid value encountered in sqrt\n",
      "  app.launch_new_instance()\n"
     ]
    }
   ],
   "source": [
    "# Results\n",
    "print('From scratch result:', nearest_neighbor(160, 10))"
   ]
  },
  {
   "cell_type": "code",
   "execution_count": 7,
   "metadata": {},
   "outputs": [
    {
     "name": "stdout",
     "output_type": "stream",
     "text": [
      "KNN algo result: [1]\n"
     ]
    }
   ],
   "source": [
    "# Import and train KNN\n",
    "from sklearn.neighbors import KNeighborsClassifier\n",
    "neighbors = KNeighborsClassifier(n_neighbors=1)\n",
    "X = music[['duration', 'loudness']]\n",
    "Y = music.jazz\n",
    "neighbors.fit(X,Y)\n",
    "\n",
    "# Get results from KNN algo\n",
    "print('KNN algo result:', neighbors.predict([[130, 15]]))"
   ]
  },
  {
   "cell_type": "code",
   "execution_count": null,
   "metadata": {},
   "outputs": [],
   "source": []
  }
 ],
 "metadata": {
  "kernelspec": {
   "display_name": "Python 3",
   "language": "python",
   "name": "python3"
  },
  "language_info": {
   "codemirror_mode": {
    "name": "ipython",
    "version": 3
   },
   "file_extension": ".py",
   "mimetype": "text/x-python",
   "name": "python",
   "nbconvert_exporter": "python",
   "pygments_lexer": "ipython3",
   "version": "3.6.5"
  }
 },
 "nbformat": 4,
 "nbformat_minor": 2
}
