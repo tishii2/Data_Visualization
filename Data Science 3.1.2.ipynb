{
 "cells": [
  {
   "cell_type": "markdown",
   "metadata": {},
   "source": [
    "## Tuning KNN Drill"
   ]
  },
  {
   "cell_type": "code",
   "execution_count": 1,
   "metadata": {},
   "outputs": [],
   "source": [
    "#Let's say we work at a credit card company and we're trying to figure out if people are going to pay their bills on \n",
    "#time. We have everyone's purchases, split into four main categories: groceries, dining out, utilities, and entertainment. \n",
    "#What are some ways you might use KNN to create this model? What aspects of KNN would be useful? \n",
    "#Write up your thoughts in submit a link below."
   ]
  },
  {
   "cell_type": "markdown",
   "metadata": {},
   "source": [
    "First, start off by using the past billing cycle to create a validation set for if they paid on time or not for a certain number or all of the customers. Then use the current billing cycle to create a test set to see if they paid on time or not. Create features for all categories while converting dollar amounts into floats. Feature new binary category on whether they've paid on time for not. \"1\" being Yes, \"0\" being No. Initialize KNN. Use cross_val_score function to fit the model to the training folds in k-fold cross-validation and make predictions for the test folds. "
   ]
  }
 ],
 "metadata": {
  "kernelspec": {
   "display_name": "Python 3",
   "language": "python",
   "name": "python3"
  },
  "language_info": {
   "codemirror_mode": {
    "name": "ipython",
    "version": 3
   },
   "file_extension": ".py",
   "mimetype": "text/x-python",
   "name": "python",
   "nbconvert_exporter": "python",
   "pygments_lexer": "ipython3",
   "version": "3.6.5"
  }
 },
 "nbformat": 4,
 "nbformat_minor": 2
}
