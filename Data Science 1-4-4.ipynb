{
 "cells": [
  {
   "cell_type": "markdown",
   "metadata": {},
   "source": [
    "## 1.)"
   ]
  },
  {
   "cell_type": "markdown",
   "metadata": {},
   "source": [
    "The problem with having two different speakers is their rank or amount of power they hold. Emporor Palpatine (I think) holds much much power over the rupublic than Darth Vader which could result in more or less people actually listening to each voices. It would be beneficial to either choose Emporer Palpatine or Darth Vader to say both slogans and have the droids choose from that. "
   ]
  },
  {
   "cell_type": "markdown",
   "metadata": {},
   "source": [
    "## 2.)"
   ]
  },
  {
   "cell_type": "markdown",
   "metadata": {},
   "source": [
    "Mace windu is a far more prominant role in the Jedi Order and most likely had a worse turnover rate when visitng unfriendly planets, while Jar Jar Binks is a less prominant good character. This would provide an advantage to Jar Jar Binks. A solution to do would be to use two people of similar power or prominence to get the most fair results. "
   ]
  },
  {
   "cell_type": "markdown",
   "metadata": {},
   "source": [
    "## 3.)"
   ]
  },
  {
   "cell_type": "markdown",
   "metadata": {},
   "source": [
    "The issue is that the different countries' sites may have a different overall satisfaction rate. This would result in bias results as the HR employees are mainly located in only three locations, and if those locations present a significant result in either the positive or negative side, the results would be swayed heavily compared to IT who's employees are scattered all over."
   ]
  },
  {
   "cell_type": "markdown",
   "metadata": {},
   "source": [
    "## 4.)"
   ]
  },
  {
   "cell_type": "markdown",
   "metadata": {},
   "source": [
    "People who are more motivated and may show signs of improve are more likely to opt in. This could be because they're less embarrased, or whatever the case may be but this would skew the results in a way that doesn't represent the population as a whole. A solution to this could be to to have all users opt in and ensure their data won't be displayed anywhere but research purposes. "
   ]
  },
  {
   "cell_type": "markdown",
   "metadata": {},
   "source": [
    "## 5.)"
   ]
  },
  {
   "cell_type": "markdown",
   "metadata": {},
   "source": [
    "The students sitting in the area where version B was handed out could have been students who often cheat and therefore shared the correct answers with each other. A solution to this could have been to stack the tests so it was A, B, C, A, B, C, rather than all A first, all B second, and all C last. "
   ]
  },
  {
   "cell_type": "code",
   "execution_count": null,
   "metadata": {},
   "outputs": [],
   "source": []
  }
 ],
 "metadata": {
  "kernelspec": {
   "display_name": "Python 3",
   "language": "python",
   "name": "python3"
  },
  "language_info": {
   "codemirror_mode": {
    "name": "ipython",
    "version": 3
   },
   "file_extension": ".py",
   "mimetype": "text/x-python",
   "name": "python",
   "nbconvert_exporter": "python",
   "pygments_lexer": "ipython3",
   "version": "3.6.5"
  }
 },
 "nbformat": 4,
 "nbformat_minor": 2
}
