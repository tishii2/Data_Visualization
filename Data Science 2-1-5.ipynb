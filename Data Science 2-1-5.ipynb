{
 "cells": [
  {
   "cell_type": "markdown",
   "metadata": {},
   "source": [
    "## TLADS Drill"
   ]
  },
  {
   "cell_type": "markdown",
   "metadata": {},
   "source": [
    "cntry - Categorical\n",
    "idno - Categorical \n",
    "year - Categorical\n",
    "tvtot - Continuous (Ordinal)\n",
    "ppltrst - Categorical \n",
    "pplfair - Categorical\n",
    "pplhlp - Categorical \n",
    "happy - Continuous (ordinal)\n",
    "sclmeet - Continuous (ordinal)\n",
    "sclact - Continuous (ordinal)\n",
    "gndr - Categorical\n",
    "age - Continuous (ordinal)\n",
    "partner - Categorical"
   ]
  }
 ],
 "metadata": {
  "kernelspec": {
   "display_name": "Python 3",
   "language": "python",
   "name": "python3"
  },
  "language_info": {
   "codemirror_mode": {
    "name": "ipython",
    "version": 3
   },
   "file_extension": ".py",
   "mimetype": "text/x-python",
   "name": "python",
   "nbconvert_exporter": "python",
   "pygments_lexer": "ipython3",
   "version": "3.6.5"
  }
 },
 "nbformat": 4,
 "nbformat_minor": 2
}
