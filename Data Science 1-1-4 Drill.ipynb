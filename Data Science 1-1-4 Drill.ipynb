{
 "cells": [
  {
   "cell_type": "markdown",
   "metadata": {},
   "source": [
    "1.) \n",
    "Analyzing the information given about users that converted from an advertisement, figure out the statistics in which whether the user had preconvieved intentions on which items to purchase (littel activity on the webpage that lead to a purchase) or if they looked through the website and chose an item while looking through mulitple options (Lots of activity on the webpage that lead to a purchase.) Combine that information with total purchases, and choose which item to feature throught that."
   ]
  },
  {
   "cell_type": "markdown",
   "metadata": {},
   "source": [
    "2.)\n",
    "Using the data on which page users most often stop inputting information, along with the information of how long users who complete the application process take on each of the steps, alter the pages with long time periods to match the time it took those who completed the process. Choose to minimize input options on pages with long time stamps. "
   ]
  },
  {
   "cell_type": "markdown",
   "metadata": {},
   "source": [
    "3.)\n",
    "Fix the system to put all hotels that are avaiable at the top of the results in order from cheapest to most expensive on the most basic level. Add filters in which users can change the price range of their desired hotel and show results based on their inputs. "
   ]
  },
  {
   "cell_type": "markdown",
   "metadata": {},
   "source": [
    "4.)\n",
    "Construct a data set with the average length of session of those users who log in everyday. Use that as your base model for ideal users that you'd like to replicate. For users that fall below the average length session, analyze their time stamps for each time they log in and focus of those with decreasing time stamps for each time they log in. "
   ]
  },
  {
   "cell_type": "code",
   "execution_count": null,
   "metadata": {},
   "outputs": [],
   "source": []
  }
 ],
 "metadata": {
  "kernelspec": {
   "display_name": "Python 3",
   "language": "python",
   "name": "python3"
  },
  "language_info": {
   "codemirror_mode": {
    "name": "ipython",
    "version": 3
   },
   "file_extension": ".py",
   "mimetype": "text/x-python",
   "name": "python",
   "nbconvert_exporter": "python",
   "pygments_lexer": "ipython3",
   "version": "3.6.5"
  }
 },
 "nbformat": 4,
 "nbformat_minor": 2
}
