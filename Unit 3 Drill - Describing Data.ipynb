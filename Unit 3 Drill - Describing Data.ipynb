{
 "cells": [
  {
   "cell_type": "code",
   "execution_count": 5,
   "metadata": {},
   "outputs": [],
   "source": [
    "import pandas as pd\n",
    "import numpy as np\n",
    "import statistics"
   ]
  },
  {
   "cell_type": "code",
   "execution_count": 6,
   "metadata": {},
   "outputs": [],
   "source": [
    "names = ['Greg', 'Marcia', 'Peter', 'Jan', 'Bobby', 'Cindy', 'Oliver']\n",
    "age = [14, 12, 11, 10, 8, 6, 8]"
   ]
  },
  {
   "cell_type": "code",
   "execution_count": 22,
   "metadata": {},
   "outputs": [
    {
     "name": "stdout",
     "output_type": "stream",
     "text": [
      "Mean:  9.857142857142858\n",
      "Median:  10.0\n",
      "Mode:  8\n",
      "Variance:  6.408163265306122\n",
      "Standard Deviation:  2.531435020952764\n",
      "Standard Error:  0.9567925036515135\n"
     ]
    }
   ],
   "source": [
    "#QUESTION 1\n",
    "\n",
    "print(\"Mean: \", np.mean(age))\n",
    "print(\"Median: \", np.median(age))\n",
    "print(\"Mode: \", statistics.mode(age))\n",
    "\n",
    "print(\"Variance: \", np.var(age))\n",
    "print(\"Standard Deviation: \", np.std(age))\n",
    "print(\"Standard Error: \", (np.std(age)) / np.sqrt(len(age)))"
   ]
  },
  {
   "cell_type": "code",
   "execution_count": 23,
   "metadata": {},
   "outputs": [],
   "source": [
    "#QUESTION 2\n",
    "\n",
    "#I would choose the mean as the estimate of central tendency to describe the data because the age set is clustered \n",
    "#enough for it to be valid.\n",
    "\n",
    "#I would choose "
   ]
  },
  {
   "cell_type": "code",
   "execution_count": 33,
   "metadata": {},
   "outputs": [],
   "source": [
    "names = ['Greg', 'Marcia', 'Peter', 'Jan', 'Bobby', 'Cindy', 'Oliver']\n",
    "age = [14, 12, 11, 10, 8, 7, 1]"
   ]
  },
  {
   "cell_type": "code",
   "execution_count": 37,
   "metadata": {},
   "outputs": [
    {
     "name": "stdout",
     "output_type": "stream",
     "text": [
      "Mean:  9.0\n",
      "Median:  10.0\n",
      "No Mode\n",
      "Variance:  15.428571428571429\n",
      "Standard Deviation:  3.927922024247863\n",
      "Standard Error:  1.4846149779161806\n"
     ]
    }
   ],
   "source": [
    "print(\"Mean: \", np.mean(age))\n",
    "print(\"Median: \", np.median(age))\n",
    "#print(\"Mode: \", statistics.mode(age))\n",
    "print('No Mode')\n",
    "\n",
    "print(\"Variance: \", np.var(age))\n",
    "print(\"Standard Deviation: \", np.std(age))\n",
    "print(\"Standard Error: \", (np.std(age)) / np.sqrt(len(age)))"
   ]
  },
  {
   "cell_type": "code",
   "execution_count": 26,
   "metadata": {},
   "outputs": [],
   "source": [
    "names = ['Greg', 'Marcia', 'Peter', 'Jan', 'Bobby', 'Cindy', 'Jessica']\n",
    "age = [14, 12, 11, 10, 8, 7, 1]"
   ]
  },
  {
   "cell_type": "code",
   "execution_count": 38,
   "metadata": {},
   "outputs": [
    {
     "name": "stdout",
     "output_type": "stream",
     "text": [
      "Mean:  9.0\n",
      "Median:  10.0\n",
      "No Mode\n",
      "Variance:  15.428571428571429\n",
      "Standard Deviation:  3.927922024247863\n",
      "Standard Error:  1.4846149779161806\n"
     ]
    }
   ],
   "source": [
    "print(\"Mean: \", np.mean(age))\n",
    "print(\"Median: \", np.median(age))\n",
    "#print(\"Mode: \", statistics.mode(age))\n",
    "#(values, counts) = np.unique((age), return_counts=True)\n",
    "#ind = np.argmax(counts)\n",
    "#print(values)\n",
    "print('No Mode')\n",
    "\n",
    "print(\"Variance: \", np.var(age))\n",
    "print(\"Standard Deviation: \", np.std(age))\n",
    "print(\"Standard Error: \", (np.std(age)) / np.sqrt(len(age)))"
   ]
  },
  {
   "cell_type": "code",
   "execution_count": 40,
   "metadata": {},
   "outputs": [
    {
     "data": {
      "text/plain": [
       "20.0"
      ]
     },
     "execution_count": 40,
     "metadata": {},
     "output_type": "execute_result"
    }
   ],
   "source": [
    "fans = [20, 23, 17]\n",
    "np.mean(fans)"
   ]
  },
  {
   "cell_type": "code",
   "execution_count": null,
   "metadata": {},
   "outputs": [],
   "source": []
  }
 ],
 "metadata": {
  "kernelspec": {
   "display_name": "Python 3",
   "language": "python",
   "name": "python3"
  },
  "language_info": {
   "codemirror_mode": {
    "name": "ipython",
    "version": 3
   },
   "file_extension": ".py",
   "mimetype": "text/x-python",
   "name": "python",
   "nbconvert_exporter": "python",
   "pygments_lexer": "ipython3",
   "version": "3.6.5"
  }
 },
 "nbformat": 4,
 "nbformat_minor": 2
}
