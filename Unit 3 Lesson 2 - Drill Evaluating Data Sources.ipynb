{
 "cells": [
  {
   "cell_type": "code",
   "execution_count": null,
   "metadata": {},
   "outputs": [],
   "source": [
    "# Scraping data on December 24th would be skewed for results would be much different the day before christmas. \n",
    "\n",
    "#The numbers in New York would be unusually high for that is the day after the tragedy occured on 9/11.\n",
    "\n",
    "# Instead of generalizing them as Armenians, change the population name to a more specific one. "
   ]
  }
 ],
 "metadata": {
  "kernelspec": {
   "display_name": "Python 3",
   "language": "python",
   "name": "python3"
  },
  "language_info": {
   "codemirror_mode": {
    "name": "ipython",
    "version": 3
   },
   "file_extension": ".py",
   "mimetype": "text/x-python",
   "name": "python",
   "nbconvert_exporter": "python",
   "pygments_lexer": "ipython3",
   "version": "3.6.5"
  }
 },
 "nbformat": 4,
 "nbformat_minor": 2
}
