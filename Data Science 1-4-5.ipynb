{
 "cells": [
  {
   "cell_type": "markdown",
   "metadata": {},
   "source": [
    "## Research Question Essential Points"
   ]
  },
  {
   "cell_type": "markdown",
   "metadata": {},
   "source": [
    "### \"When people install the Happy Days Fitness Tracker app, they are asked to \"opt in\" to a data collection scheme where their level of physical activity data is automatically sent to the company for product research purposes. During your interview with the company, they tell you that the app is very effective because after installing the app, the data show that people's activity levels rise steadily.\""
   ]
  },
  {
   "cell_type": "markdown",
   "metadata": {},
   "source": []
  },
  {
   "cell_type": "markdown",
   "metadata": {},
   "source": [
    "## The Problem"
   ]
  },
  {
   "cell_type": "markdown",
   "metadata": {},
   "source": [
    "How do we increase activity levels through the use of the app? We want to keep users' activity levels on a linear progression as the ultimate goal of the app is to keep user's healthy. It's very common for a user who just started a fitness plan to be motivated at the start but slowly lose motivation as time passes."
   ]
  },
  {
   "cell_type": "markdown",
   "metadata": {},
   "source": [
    "## The Potential Solution"
   ]
  },
  {
   "cell_type": "markdown",
   "metadata": {},
   "source": [
    "Assigning each user a fitness group would keep activity levels consistant by implementing a means of accountability. "
   ]
  },
  {
   "cell_type": "markdown",
   "metadata": {},
   "source": [
    "## The Method of Testing the Solution"
   ]
  },
  {
   "cell_type": "markdown",
   "metadata": {},
   "source": [
    "Assign half of users who have been using the app to a fitness group consisting of other members who average similar times of activity levels and create a team goal they try to reach each week with a prize if they do, and then users who have no change and continue working out individually. Variable of interest is consistancy in activity levels throughout a period of time between those who are associated with a group and those who are individual. \n",
    "\n",
    "If activity levels stay consistant throughout 3 months with fitness groups involved, then all members will be added to a fitness group as it will be concluded as a successful feature. if activity levels do not stay consistant, it will be deemd unsuccessful and we'll continue with individuals. \n",
    "\n",
    "We want to keep in mind the different categories of Data we collect as well. Whether it be age, gender or average time of activity, all of this will help narrow down the results from one another and develop the product for each. "
   ]
  },
  {
   "cell_type": "code",
   "execution_count": null,
   "metadata": {},
   "outputs": [],
   "source": []
  }
 ],
 "metadata": {
  "kernelspec": {
   "display_name": "Python 3",
   "language": "python",
   "name": "python3"
  },
  "language_info": {
   "codemirror_mode": {
    "name": "ipython",
    "version": 3
   },
   "file_extension": ".py",
   "mimetype": "text/x-python",
   "name": "python",
   "nbconvert_exporter": "python",
   "pygments_lexer": "ipython3",
   "version": "3.6.5"
  }
 },
 "nbformat": 4,
 "nbformat_minor": 2
}
