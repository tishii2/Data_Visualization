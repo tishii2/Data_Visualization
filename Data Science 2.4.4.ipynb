{
 "cells": [
  {
   "cell_type": "code",
   "execution_count": 1,
   "metadata": {},
   "outputs": [],
   "source": [
    "## Challange 2.4.4\n",
    "## Make Your Own Regression Model"
   ]
  },
  {
   "cell_type": "code",
   "execution_count": 17,
   "metadata": {},
   "outputs": [],
   "source": [
    "import pandas as pd\n",
    "from matplotlib import pyplot as plt\n",
    "import numpy as np\n",
    "import sklearn\n",
    "from sklearn import linear_model\n",
    "%matplotlib inline\n",
    "pd.options.display.float_format = '{:.3f}'.format\n",
    "import seaborn as sns\n",
    "import math\n",
    "from matplotlib.mlab import PCA as mlabPCA\n",
    "from sklearn.preprocessing import StandardScaler\n",
    "from sklearn.decomposition import PCA\n",
    "from sklearn import preprocessing\n",
    "from sklearn.feature_selection import SelectKBest\n",
    "import warnings\n",
    "warnings.filterwarnings(action='ignore', module='scipy', message='^internal gelsd')"
   ]
  },
  {
   "cell_type": "code",
   "execution_count": 18,
   "metadata": {
    "scrolled": true
   },
   "outputs": [
    {
     "data": {
      "text/html": [
       "<div>\n",
       "<style scoped>\n",
       "    .dataframe tbody tr th:only-of-type {\n",
       "        vertical-align: middle;\n",
       "    }\n",
       "\n",
       "    .dataframe tbody tr th {\n",
       "        vertical-align: top;\n",
       "    }\n",
       "\n",
       "    .dataframe thead th {\n",
       "        text-align: right;\n",
       "    }\n",
       "</style>\n",
       "<table border=\"1\" class=\"dataframe\">\n",
       "  <thead>\n",
       "    <tr style=\"text-align: right;\">\n",
       "      <th></th>\n",
       "      <th>City</th>\n",
       "      <th>Population</th>\n",
       "      <th>Violent\r",
       "crime</th>\n",
       "      <th>Murder and\r",
       "nonnegligent\r",
       "manslaughter</th>\n",
       "      <th>Rape\r",
       "(revised\r",
       "definition)1</th>\n",
       "      <th>Rape\r",
       "(legacy\r",
       "definition)2</th>\n",
       "      <th>Robbery</th>\n",
       "      <th>Aggravated\r",
       "assault</th>\n",
       "      <th>Property\r",
       "crime</th>\n",
       "      <th>Burglary</th>\n",
       "      <th>Larceny-\r",
       "theft</th>\n",
       "      <th>Motor\r",
       "vehicle\r",
       "theft</th>\n",
       "      <th>Arson3</th>\n",
       "    </tr>\n",
       "  </thead>\n",
       "  <tbody>\n",
       "    <tr>\n",
       "      <th>0</th>\n",
       "      <td>Adams Village</td>\n",
       "      <td>1,861</td>\n",
       "      <td>0</td>\n",
       "      <td>0.000</td>\n",
       "      <td>nan</td>\n",
       "      <td>0</td>\n",
       "      <td>0</td>\n",
       "      <td>0</td>\n",
       "      <td>12</td>\n",
       "      <td>2</td>\n",
       "      <td>10</td>\n",
       "      <td>0</td>\n",
       "      <td>0.000</td>\n",
       "    </tr>\n",
       "    <tr>\n",
       "      <th>1</th>\n",
       "      <td>Addison Town and Village</td>\n",
       "      <td>2,577</td>\n",
       "      <td>3</td>\n",
       "      <td>0.000</td>\n",
       "      <td>nan</td>\n",
       "      <td>0</td>\n",
       "      <td>0</td>\n",
       "      <td>3</td>\n",
       "      <td>24</td>\n",
       "      <td>3</td>\n",
       "      <td>20</td>\n",
       "      <td>1</td>\n",
       "      <td>0.000</td>\n",
       "    </tr>\n",
       "    <tr>\n",
       "      <th>2</th>\n",
       "      <td>Akron Village</td>\n",
       "      <td>2,846</td>\n",
       "      <td>3</td>\n",
       "      <td>0.000</td>\n",
       "      <td>nan</td>\n",
       "      <td>0</td>\n",
       "      <td>0</td>\n",
       "      <td>3</td>\n",
       "      <td>16</td>\n",
       "      <td>1</td>\n",
       "      <td>15</td>\n",
       "      <td>0</td>\n",
       "      <td>0.000</td>\n",
       "    </tr>\n",
       "    <tr>\n",
       "      <th>3</th>\n",
       "      <td>Albany</td>\n",
       "      <td>97,956</td>\n",
       "      <td>791</td>\n",
       "      <td>8.000</td>\n",
       "      <td>nan</td>\n",
       "      <td>30</td>\n",
       "      <td>227</td>\n",
       "      <td>526</td>\n",
       "      <td>4,090</td>\n",
       "      <td>705</td>\n",
       "      <td>3,243</td>\n",
       "      <td>142</td>\n",
       "      <td>nan</td>\n",
       "    </tr>\n",
       "    <tr>\n",
       "      <th>4</th>\n",
       "      <td>Albion Village</td>\n",
       "      <td>6,388</td>\n",
       "      <td>23</td>\n",
       "      <td>0.000</td>\n",
       "      <td>nan</td>\n",
       "      <td>3</td>\n",
       "      <td>4</td>\n",
       "      <td>16</td>\n",
       "      <td>223</td>\n",
       "      <td>53</td>\n",
       "      <td>165</td>\n",
       "      <td>5</td>\n",
       "      <td>nan</td>\n",
       "    </tr>\n",
       "  </tbody>\n",
       "</table>\n",
       "</div>"
      ],
      "text/plain": [
       "                       City Population Violent\\rcrime  \\\n",
       "0             Adams Village      1,861              0   \n",
       "1  Addison Town and Village      2,577              3   \n",
       "2             Akron Village      2,846              3   \n",
       "3                    Albany     97,956            791   \n",
       "4            Albion Village      6,388             23   \n",
       "\n",
       "   Murder and\\rnonnegligent\\rmanslaughter  Rape\\r(revised\\rdefinition)1  \\\n",
       "0                                   0.000                           nan   \n",
       "1                                   0.000                           nan   \n",
       "2                                   0.000                           nan   \n",
       "3                                   8.000                           nan   \n",
       "4                                   0.000                           nan   \n",
       "\n",
       "  Rape\\r(legacy\\rdefinition)2 Robbery Aggravated\\rassault Property\\rcrime  \\\n",
       "0                           0       0                   0              12   \n",
       "1                           0       0                   3              24   \n",
       "2                           0       0                   3              16   \n",
       "3                          30     227                 526           4,090   \n",
       "4                           3       4                  16             223   \n",
       "\n",
       "  Burglary Larceny-\\rtheft Motor\\rvehicle\\rtheft  Arson3  \n",
       "0        2              10                     0   0.000  \n",
       "1        3              20                     1   0.000  \n",
       "2        1              15                     0   0.000  \n",
       "3      705           3,243                   142     nan  \n",
       "4       53             165                     5     nan  "
      ]
     },
     "execution_count": 18,
     "metadata": {},
     "output_type": "execute_result"
    }
   ],
   "source": [
    "#Loading The Data\n",
    "df = pd.read_csv('2.4.4.csv')\n",
    "df.head()"
   ]
  },
  {
   "cell_type": "code",
   "execution_count": 23,
   "metadata": {},
   "outputs": [],
   "source": [
    "df = df.rename(index=str, columns={\"Rape\\r(revised\\rdefinition)1\": \"Rape1\", \"Murder and\\rnonnegligent\\rmanslaughter\": \"Murder\", \"Rape\\r(legacy\\rdefinition)2\": \"Rape2\", \"Aggravated\\rassault\": \"Aggravated Assault\", \"Property\\rcrime\": \"Property Crime\", \"Arson3\": \"Arson\", \"Larceny-\\rtheft\": \"Larceny\", \"Motor\\rvehicle\\rtheft\": \"Motor\", \"Violent\\rcrime\": \"Violent Crime\" })"
   ]
  },
  {
   "cell_type": "code",
   "execution_count": 24,
   "metadata": {},
   "outputs": [
    {
     "data": {
      "text/plain": [
       "City                   object\n",
       "Population             object\n",
       "Violent Crime          object\n",
       "Murder                float64\n",
       "Rape1                 float64\n",
       "Rape2                  object\n",
       "Robbery                object\n",
       "Aggravated Assault     object\n",
       "Property Crime         object\n",
       "Burglary               object\n",
       "Larceny                object\n",
       "Motor                  object\n",
       "Arson                 float64\n",
       "dtype: object"
      ]
     },
     "execution_count": 24,
     "metadata": {},
     "output_type": "execute_result"
    }
   ],
   "source": [
    "df.dtypes"
   ]
  },
  {
   "cell_type": "code",
   "execution_count": 25,
   "metadata": {},
   "outputs": [],
   "source": [
    "#Replacing the \",\" to nothing\n",
    "def convert_number(number):\n",
    "    try:\n",
    "        converted = float(number.replace(',', ''))\n",
    "    except:\n",
    "        converted = number\n",
    "    return converted"
   ]
  },
  {
   "cell_type": "code",
   "execution_count": 28,
   "metadata": {},
   "outputs": [],
   "source": [
    "df.fillna(0)\n",
    "df['Population'] = df['Population'].apply(lambda x: convert_number(x))\n",
    "df['Murder'] = df['Murder'].apply(lambda x: convert_number(x))\n",
    "df['Robbery'] = df['Robbery'].apply(lambda x: convert_number(x))\n",
    "df['Property Crime'] = df['Property Crime'].apply(lambda x: convert_number(x))\n",
    "df['Larceny'] = df['Larceny'].apply(lambda x: convert_number(x))"
   ]
  },
  {
   "cell_type": "code",
   "execution_count": 30,
   "metadata": {},
   "outputs": [
    {
     "data": {
      "text/plain": [
       "City                   object\n",
       "Population            float64\n",
       "Violent Crime          object\n",
       "Murder                float64\n",
       "Rape1                 float64\n",
       "Rape2                  object\n",
       "Robbery               float64\n",
       "Aggravated Assault     object\n",
       "Property Crime        float64\n",
       "Burglary               object\n",
       "Larceny               float64\n",
       "Motor                  object\n",
       "Arson                 float64\n",
       "dtype: object"
      ]
     },
     "execution_count": 30,
     "metadata": {},
     "output_type": "execute_result"
    }
   ],
   "source": [
    "df.dtypes"
   ]
  },
  {
   "cell_type": "code",
   "execution_count": 31,
   "metadata": {},
   "outputs": [
    {
     "data": {
      "text/html": [
       "<div>\n",
       "<style scoped>\n",
       "    .dataframe tbody tr th:only-of-type {\n",
       "        vertical-align: middle;\n",
       "    }\n",
       "\n",
       "    .dataframe tbody tr th {\n",
       "        vertical-align: top;\n",
       "    }\n",
       "\n",
       "    .dataframe thead th {\n",
       "        text-align: right;\n",
       "    }\n",
       "</style>\n",
       "<table border=\"1\" class=\"dataframe\">\n",
       "  <thead>\n",
       "    <tr style=\"text-align: right;\">\n",
       "      <th></th>\n",
       "      <th>City</th>\n",
       "      <th>Population</th>\n",
       "      <th>Violent Crime</th>\n",
       "      <th>Murder</th>\n",
       "      <th>Rape1</th>\n",
       "      <th>Rape2</th>\n",
       "      <th>Robbery</th>\n",
       "      <th>Aggravated Assault</th>\n",
       "      <th>Property Crime</th>\n",
       "      <th>Burglary</th>\n",
       "      <th>Larceny</th>\n",
       "      <th>Motor</th>\n",
       "      <th>Arson</th>\n",
       "    </tr>\n",
       "  </thead>\n",
       "  <tbody>\n",
       "    <tr>\n",
       "      <th>0</th>\n",
       "      <td>Adams Village</td>\n",
       "      <td>1861.000</td>\n",
       "      <td>0</td>\n",
       "      <td>0.000</td>\n",
       "      <td>nan</td>\n",
       "      <td>0</td>\n",
       "      <td>0.000</td>\n",
       "      <td>0</td>\n",
       "      <td>12.000</td>\n",
       "      <td>2</td>\n",
       "      <td>10.000</td>\n",
       "      <td>0</td>\n",
       "      <td>0.000</td>\n",
       "    </tr>\n",
       "    <tr>\n",
       "      <th>1</th>\n",
       "      <td>Addison Town and Village</td>\n",
       "      <td>2577.000</td>\n",
       "      <td>3</td>\n",
       "      <td>0.000</td>\n",
       "      <td>nan</td>\n",
       "      <td>0</td>\n",
       "      <td>0.000</td>\n",
       "      <td>3</td>\n",
       "      <td>24.000</td>\n",
       "      <td>3</td>\n",
       "      <td>20.000</td>\n",
       "      <td>1</td>\n",
       "      <td>0.000</td>\n",
       "    </tr>\n",
       "    <tr>\n",
       "      <th>2</th>\n",
       "      <td>Akron Village</td>\n",
       "      <td>2846.000</td>\n",
       "      <td>3</td>\n",
       "      <td>0.000</td>\n",
       "      <td>nan</td>\n",
       "      <td>0</td>\n",
       "      <td>0.000</td>\n",
       "      <td>3</td>\n",
       "      <td>16.000</td>\n",
       "      <td>1</td>\n",
       "      <td>15.000</td>\n",
       "      <td>0</td>\n",
       "      <td>0.000</td>\n",
       "    </tr>\n",
       "    <tr>\n",
       "      <th>3</th>\n",
       "      <td>Albany</td>\n",
       "      <td>97956.000</td>\n",
       "      <td>791</td>\n",
       "      <td>8.000</td>\n",
       "      <td>nan</td>\n",
       "      <td>30</td>\n",
       "      <td>227.000</td>\n",
       "      <td>526</td>\n",
       "      <td>4090.000</td>\n",
       "      <td>705</td>\n",
       "      <td>3243.000</td>\n",
       "      <td>142</td>\n",
       "      <td>nan</td>\n",
       "    </tr>\n",
       "    <tr>\n",
       "      <th>4</th>\n",
       "      <td>Albion Village</td>\n",
       "      <td>6388.000</td>\n",
       "      <td>23</td>\n",
       "      <td>0.000</td>\n",
       "      <td>nan</td>\n",
       "      <td>3</td>\n",
       "      <td>4.000</td>\n",
       "      <td>16</td>\n",
       "      <td>223.000</td>\n",
       "      <td>53</td>\n",
       "      <td>165.000</td>\n",
       "      <td>5</td>\n",
       "      <td>nan</td>\n",
       "    </tr>\n",
       "  </tbody>\n",
       "</table>\n",
       "</div>"
      ],
      "text/plain": [
       "                       City  Population Violent Crime  Murder  Rape1 Rape2  \\\n",
       "0             Adams Village    1861.000             0   0.000    nan     0   \n",
       "1  Addison Town and Village    2577.000             3   0.000    nan     0   \n",
       "2             Akron Village    2846.000             3   0.000    nan     0   \n",
       "3                    Albany   97956.000           791   8.000    nan    30   \n",
       "4            Albion Village    6388.000            23   0.000    nan     3   \n",
       "\n",
       "   Robbery Aggravated Assault  Property Crime Burglary  Larceny Motor  Arson  \n",
       "0    0.000                  0          12.000        2   10.000     0  0.000  \n",
       "1    0.000                  3          24.000        3   20.000     1  0.000  \n",
       "2    0.000                  3          16.000        1   15.000     0  0.000  \n",
       "3  227.000                526        4090.000      705 3243.000   142    nan  \n",
       "4    4.000                 16         223.000       53  165.000     5    nan  "
      ]
     },
     "execution_count": 31,
     "metadata": {},
     "output_type": "execute_result"
    }
   ],
   "source": [
    "df.head()"
   ]
  },
  {
   "cell_type": "code",
   "execution_count": 34,
   "metadata": {},
   "outputs": [
    {
     "data": {
      "image/png": "[encoded data removed]",
      "text/plain": [
       "<Figure size 432x288 with 1 Axes>"
      ]
     },
     "metadata": {},
     "output_type": "display_data"
    },
    {
     "name": "stdout",
     "output_type": "stream",
     "text": [
      "Median  7233.5\n",
      "Std  450037.3675209857\n",
      "Outliers above  907308.2350419714\n"
     ]
    },
    {
     "data": {
      "image/png": "[encoded data removed]",
      "text/plain": [
       "<Figure size 432x288 with 1 Axes>"
      ]
     },
     "metadata": {},
     "output_type": "display_data"
    },
    {
     "name": "stdout",
     "output_type": "stream",
     "text": [
      "Median  7233.5\n",
      "Std  18.303672792887784\n",
      "Outliers above  7270.107345585776\n"
     ]
    },
    {
     "data": {
      "image/png": "[encoded data removed]",
      "text/plain": [
       "<Figure size 432x288 with 1 Axes>"
      ]
     },
     "metadata": {},
     "output_type": "display_data"
    },
    {
     "name": "stdout",
     "output_type": "stream",
     "text": [
      "Median  1.0\n",
      "Std  1031.032873295524\n",
      "Outliers above  2063.065746591048\n"
     ]
    },
    {
     "data": {
      "image/png": "[encoded data removed]",
      "text/plain": [
       "<Figure size 432x288 with 1 Axes>"
      ]
     },
     "metadata": {},
     "output_type": "display_data"
    },
    {
     "name": "stdout",
     "output_type": "stream",
     "text": [
      "Median  112.5\n",
      "Std  7659.724745633146\n",
      "Outliers above  15431.949491266292\n"
     ]
    }
   ],
   "source": [
    "#Distributions of variables\n",
    "df['Population'].hist(bins=100)\n",
    "plt.title('Population')\n",
    "plt.show()\n",
    "\n",
    "#Median, standard deviation and the limit for outliers\n",
    "median = df.Population.median()\n",
    "std = df.Population.std()\n",
    "pop_out = median + 2* std\n",
    "\n",
    "print('Median ', median)\n",
    "print('Std ', std)\n",
    "print('Outliers above ', pop_out)\n",
    "\n",
    "df['Murder'].hist(bins=20)\n",
    "plt.title('Murders')\n",
    "plt.show()\n",
    "\n",
    "std = df['Murder'].std()\n",
    "mur_out = median + 2* std\n",
    "\n",
    "print('Median ', median)\n",
    "print('Std ', std)\n",
    "print('Outliers above ', mur_out)\n",
    "\n",
    "df['Robbery'].hist(bins=20)\n",
    "plt.title('Robberies')\n",
    "plt.show()\n",
    "\n",
    "median = df.Robbery.median()\n",
    "std = df.Robbery.std()\n",
    "rob_out = median + 2* std\n",
    "\n",
    "print('Median ', median)\n",
    "print('Std ', std)\n",
    "print('Outliers above ', rob_out)\n",
    "\n",
    "df['Property Crime'].hist(bins=20)\n",
    "plt.title('Property Crime')\n",
    "plt.show()\n",
    "\n",
    "median = df['Property Crime'].median()\n",
    "std = df['Property Crime'].std()\n",
    "prop_out = median + 2* std\n",
    "\n",
    "print('Median ', median)\n",
    "print('Std ', std)\n",
    "print('Outliers above ', prop_out)"
   ]
  },
  {
   "cell_type": "code",
   "execution_count": 36,
   "metadata": {},
   "outputs": [],
   "source": [
    "# Remove Outliars\n",
    "df['Population'] = df.Population.map(lambda x: x if x < pop_out else None)\n",
    "df['Murder'] = df.Murder.map(lambda x: x if x < mur_out else None)\n",
    "df['Robbery'] = df.Robbery.map(lambda x: x if x < rob_out else None)\n",
    "df['Property\\\\ncrime'] = df['Property Crime'].map(lambda x: x if x < prop_out else None)"
   ]
  },
  {
   "cell_type": "code",
   "execution_count": 71,
   "metadata": {},
   "outputs": [
    {
     "name": "stdout",
     "output_type": "stream",
     "text": [
      "35    258789.000\n",
      "272   210562.000\n",
      "346   199134.000\n",
      "310   143834.000\n",
      "7     118296.000\n",
      "Name: Population, dtype: float64\n",
      "216   335.000\n",
      "35     47.000\n",
      "272    42.000\n",
      "310    21.000\n",
      "140    10.000\n",
      "Name: Murder, dtype: float64\n",
      "35    1322.000\n",
      "272    918.000\n",
      "310    400.000\n",
      "346    390.000\n",
      "206    228.000\n",
      "Name: Robbery, dtype: float64\n",
      "216   141971.000\n",
      "35     12491.000\n",
      "272    10051.000\n",
      "310     6473.000\n",
      "3       4090.000\n",
      "Name: Property Crime, dtype: float64\n"
     ]
    }
   ],
   "source": [
    "# Finding and removing highest values\n",
    "print(df.Population.dropna().sort_values(ascending=False).head())\n",
    "print(df['Murder'].dropna().sort_values(ascending=False).head())\n",
    "print(df.Robbery.dropna().sort_values(ascending=False).head())\n",
    "print(df['Property Crime'].dropna().sort_values(ascending=False).head())"
   ]
  },
  {
   "cell_type": "code",
   "execution_count": 38,
   "metadata": {},
   "outputs": [
    {
     "data": {
      "image/png": "[encoded data removed]",
      "text/plain": [
       "<Figure size 720x720 with 4 Axes>"
      ]
     },
     "metadata": {},
     "output_type": "display_data"
    }
   ],
   "source": [
    "# Visual after removing outliars\n",
    "plt.figure(figsize=(10,10))\n",
    "plt.subplot(221)\n",
    "df['Population'].hist(bins=100)\n",
    "plt.title('Population')\n",
    "\n",
    "plt.subplot(222)\n",
    "df['Murder'].hist(bins=50)\n",
    "plt.title('Murders')\n",
    "\n",
    "plt.subplot(223)\n",
    "df['Robbery'].hist(bins=50)\n",
    "plt.title('Robberies')\n",
    "\n",
    "plt.subplot(224)\n",
    "df['Property\\\\ncrime'].hist(bins=50)\n",
    "plt.title('Property Crime')\n",
    "\n",
    "plt.show()"
   ]
  },
  {
   "cell_type": "code",
   "execution_count": 39,
   "metadata": {},
   "outputs": [
    {
     "data": {
      "image/png": "[encoded data removed]",
      "text/plain": [
       "<Figure size 432x288 with 1 Axes>"
      ]
     },
     "metadata": {},
     "output_type": "display_data"
    }
   ],
   "source": [
    "#Making a new feature. Population Squared\n",
    "df['PopSq'] = df['Population']**2\n",
    "df['PopSq'].hist()\n",
    "plt.title('Population Squared in NYC')\n",
    "plt.show()"
   ]
  },
  {
   "cell_type": "code",
   "execution_count": 40,
   "metadata": {},
   "outputs": [],
   "source": [
    "#Defining categorical converting function\n",
    "\n",
    "def convert_category(number):\n",
    "    value = convert_number(number)\n",
    "\n",
    "    if value>0:\n",
    "        return 1\n",
    "    else:\n",
    "       return 0"
   ]
  },
  {
   "cell_type": "code",
   "execution_count": 41,
   "metadata": {
    "scrolled": true
   },
   "outputs": [
    {
     "data": {
      "text/html": [
       "<div>\n",
       "<style scoped>\n",
       "    .dataframe tbody tr th:only-of-type {\n",
       "        vertical-align: middle;\n",
       "    }\n",
       "\n",
       "    .dataframe tbody tr th {\n",
       "        vertical-align: top;\n",
       "    }\n",
       "\n",
       "    .dataframe thead th {\n",
       "        text-align: right;\n",
       "    }\n",
       "</style>\n",
       "<table border=\"1\" class=\"dataframe\">\n",
       "  <thead>\n",
       "    <tr style=\"text-align: right;\">\n",
       "      <th></th>\n",
       "      <th>City</th>\n",
       "      <th>Population</th>\n",
       "      <th>Violent Crime</th>\n",
       "      <th>Murder</th>\n",
       "      <th>Rape1</th>\n",
       "      <th>Rape2</th>\n",
       "      <th>Robbery</th>\n",
       "      <th>Aggravated Assault</th>\n",
       "      <th>Property Crime</th>\n",
       "      <th>Burglary</th>\n",
       "      <th>Larceny</th>\n",
       "      <th>Motor</th>\n",
       "      <th>Arson</th>\n",
       "      <th>Property\\ncrime</th>\n",
       "      <th>PopSq</th>\n",
       "      <th>Murder_categorical</th>\n",
       "      <th>Robbery_categorical</th>\n",
       "    </tr>\n",
       "  </thead>\n",
       "  <tbody>\n",
       "    <tr>\n",
       "      <th>0</th>\n",
       "      <td>Adams Village</td>\n",
       "      <td>1861.000</td>\n",
       "      <td>0</td>\n",
       "      <td>0.000</td>\n",
       "      <td>nan</td>\n",
       "      <td>0</td>\n",
       "      <td>0.000</td>\n",
       "      <td>0</td>\n",
       "      <td>12.000</td>\n",
       "      <td>2</td>\n",
       "      <td>10.000</td>\n",
       "      <td>0</td>\n",
       "      <td>0.000</td>\n",
       "      <td>12.000</td>\n",
       "      <td>3463321.000</td>\n",
       "      <td>0</td>\n",
       "      <td>0</td>\n",
       "    </tr>\n",
       "    <tr>\n",
       "      <th>1</th>\n",
       "      <td>Addison Town and Village</td>\n",
       "      <td>2577.000</td>\n",
       "      <td>3</td>\n",
       "      <td>0.000</td>\n",
       "      <td>nan</td>\n",
       "      <td>0</td>\n",
       "      <td>0.000</td>\n",
       "      <td>3</td>\n",
       "      <td>24.000</td>\n",
       "      <td>3</td>\n",
       "      <td>20.000</td>\n",
       "      <td>1</td>\n",
       "      <td>0.000</td>\n",
       "      <td>24.000</td>\n",
       "      <td>6640929.000</td>\n",
       "      <td>0</td>\n",
       "      <td>0</td>\n",
       "    </tr>\n",
       "    <tr>\n",
       "      <th>2</th>\n",
       "      <td>Akron Village</td>\n",
       "      <td>2846.000</td>\n",
       "      <td>3</td>\n",
       "      <td>0.000</td>\n",
       "      <td>nan</td>\n",
       "      <td>0</td>\n",
       "      <td>0.000</td>\n",
       "      <td>3</td>\n",
       "      <td>16.000</td>\n",
       "      <td>1</td>\n",
       "      <td>15.000</td>\n",
       "      <td>0</td>\n",
       "      <td>0.000</td>\n",
       "      <td>16.000</td>\n",
       "      <td>8099716.000</td>\n",
       "      <td>0</td>\n",
       "      <td>0</td>\n",
       "    </tr>\n",
       "    <tr>\n",
       "      <th>3</th>\n",
       "      <td>Albany</td>\n",
       "      <td>97956.000</td>\n",
       "      <td>791</td>\n",
       "      <td>8.000</td>\n",
       "      <td>nan</td>\n",
       "      <td>30</td>\n",
       "      <td>227.000</td>\n",
       "      <td>526</td>\n",
       "      <td>4090.000</td>\n",
       "      <td>705</td>\n",
       "      <td>3243.000</td>\n",
       "      <td>142</td>\n",
       "      <td>nan</td>\n",
       "      <td>4090.000</td>\n",
       "      <td>9595377936.000</td>\n",
       "      <td>1</td>\n",
       "      <td>1</td>\n",
       "    </tr>\n",
       "    <tr>\n",
       "      <th>4</th>\n",
       "      <td>Albion Village</td>\n",
       "      <td>6388.000</td>\n",
       "      <td>23</td>\n",
       "      <td>0.000</td>\n",
       "      <td>nan</td>\n",
       "      <td>3</td>\n",
       "      <td>4.000</td>\n",
       "      <td>16</td>\n",
       "      <td>223.000</td>\n",
       "      <td>53</td>\n",
       "      <td>165.000</td>\n",
       "      <td>5</td>\n",
       "      <td>nan</td>\n",
       "      <td>223.000</td>\n",
       "      <td>40806544.000</td>\n",
       "      <td>0</td>\n",
       "      <td>1</td>\n",
       "    </tr>\n",
       "  </tbody>\n",
       "</table>\n",
       "</div>"
      ],
      "text/plain": [
       "                       City  Population Violent Crime  Murder  Rape1 Rape2  \\\n",
       "0             Adams Village    1861.000             0   0.000    nan     0   \n",
       "1  Addison Town and Village    2577.000             3   0.000    nan     0   \n",
       "2             Akron Village    2846.000             3   0.000    nan     0   \n",
       "3                    Albany   97956.000           791   8.000    nan    30   \n",
       "4            Albion Village    6388.000            23   0.000    nan     3   \n",
       "\n",
       "   Robbery Aggravated Assault  Property Crime Burglary  Larceny Motor  Arson  \\\n",
       "0    0.000                  0          12.000        2   10.000     0  0.000   \n",
       "1    0.000                  3          24.000        3   20.000     1  0.000   \n",
       "2    0.000                  3          16.000        1   15.000     0  0.000   \n",
       "3  227.000                526        4090.000      705 3243.000   142    nan   \n",
       "4    4.000                 16         223.000       53  165.000     5    nan   \n",
       "\n",
       "   Property\\ncrime          PopSq  Murder_categorical  Robbery_categorical  \n",
       "0           12.000    3463321.000                   0                    0  \n",
       "1           24.000    6640929.000                   0                    0  \n",
       "2           16.000    8099716.000                   0                    0  \n",
       "3         4090.000 9595377936.000                   1                    1  \n",
       "4          223.000   40806544.000                   0                    1  "
      ]
     },
     "execution_count": 41,
     "metadata": {},
     "output_type": "execute_result"
    }
   ],
   "source": [
    "#Converting \"Murder\" and \"Robbery\" to categorical\n",
    "\n",
    "df['Murder_categorical'] = df['Murder'].apply(lambda x: convert_category(x))\n",
    "df['Robbery_categorical'] = df['Robbery'].apply(lambda x: convert_category(x))\n",
    "df.head()"
   ]
  },
  {
   "cell_type": "code",
   "execution_count": 42,
   "metadata": {},
   "outputs": [
    {
     "data": {
      "text/html": [
       "<div>\n",
       "<style scoped>\n",
       "    .dataframe tbody tr th:only-of-type {\n",
       "        vertical-align: middle;\n",
       "    }\n",
       "\n",
       "    .dataframe tbody tr th {\n",
       "        vertical-align: top;\n",
       "    }\n",
       "\n",
       "    .dataframe thead th {\n",
       "        text-align: right;\n",
       "    }\n",
       "</style>\n",
       "<table border=\"1\" class=\"dataframe\">\n",
       "  <thead>\n",
       "    <tr style=\"text-align: right;\">\n",
       "      <th></th>\n",
       "      <th>Population</th>\n",
       "      <th>PopSq</th>\n",
       "      <th>Murder_categorical</th>\n",
       "      <th>Robbery_categorical</th>\n",
       "      <th>Property Crime</th>\n",
       "    </tr>\n",
       "  </thead>\n",
       "  <tbody>\n",
       "    <tr>\n",
       "      <th>0</th>\n",
       "      <td>1861.000</td>\n",
       "      <td>3463321.000</td>\n",
       "      <td>0</td>\n",
       "      <td>0</td>\n",
       "      <td>12.000</td>\n",
       "    </tr>\n",
       "    <tr>\n",
       "      <th>1</th>\n",
       "      <td>2577.000</td>\n",
       "      <td>6640929.000</td>\n",
       "      <td>0</td>\n",
       "      <td>0</td>\n",
       "      <td>24.000</td>\n",
       "    </tr>\n",
       "    <tr>\n",
       "      <th>2</th>\n",
       "      <td>2846.000</td>\n",
       "      <td>8099716.000</td>\n",
       "      <td>0</td>\n",
       "      <td>0</td>\n",
       "      <td>16.000</td>\n",
       "    </tr>\n",
       "    <tr>\n",
       "      <th>3</th>\n",
       "      <td>97956.000</td>\n",
       "      <td>9595377936.000</td>\n",
       "      <td>1</td>\n",
       "      <td>1</td>\n",
       "      <td>4090.000</td>\n",
       "    </tr>\n",
       "    <tr>\n",
       "      <th>4</th>\n",
       "      <td>6388.000</td>\n",
       "      <td>40806544.000</td>\n",
       "      <td>0</td>\n",
       "      <td>1</td>\n",
       "      <td>223.000</td>\n",
       "    </tr>\n",
       "  </tbody>\n",
       "</table>\n",
       "</div>"
      ],
      "text/plain": [
       "   Population          PopSq  Murder_categorical  Robbery_categorical  \\\n",
       "0    1861.000    3463321.000                   0                    0   \n",
       "1    2577.000    6640929.000                   0                    0   \n",
       "2    2846.000    8099716.000                   0                    0   \n",
       "3   97956.000 9595377936.000                   1                    1   \n",
       "4    6388.000   40806544.000                   0                    1   \n",
       "\n",
       "   Property Crime  \n",
       "0          12.000  \n",
       "1          24.000  \n",
       "2          16.000  \n",
       "3        4090.000  \n",
       "4         223.000  "
      ]
     },
     "execution_count": 42,
     "metadata": {},
     "output_type": "execute_result"
    }
   ],
   "source": [
    "#Isolating features\n",
    "features = df[['Population', 'PopSq', 'Murder_categorical', 'Robbery_categorical', 'Property Crime']].dropna()\n",
    "features.head()"
   ]
  },
  {
   "cell_type": "code",
   "execution_count": 43,
   "metadata": {},
   "outputs": [
    {
     "name": "stdout",
     "output_type": "stream",
     "text": [
      "<class 'pandas.core.frame.DataFrame'>\n",
      "Index: 347 entries, 0 to 347\n",
      "Data columns (total 5 columns):\n",
      "Population             347 non-null float64\n",
      "PopSq                  347 non-null float64\n",
      "Murder_categorical     347 non-null int64\n",
      "Robbery_categorical    347 non-null int64\n",
      "Property Crime         347 non-null float64\n",
      "dtypes: float64(3), int64(2)\n",
      "memory usage: 16.3+ KB\n"
     ]
    }
   ],
   "source": [
    "features.info()"
   ]
  },
  {
   "cell_type": "code",
   "execution_count": 46,
   "metadata": {},
   "outputs": [
    {
     "name": "stdout",
     "output_type": "stream",
     "text": [
      "Coefficients:  [1.29510871e-02 1.14920528e-07 1.95038666e+02 9.28205845e+01]\n",
      "Intercept:  -16.815866321663805\n",
      "0.8444937611173492\n"
     ]
    }
   ],
   "source": [
    "# Instantiate our model.\n",
    "regr = linear_model.LinearRegression()\n",
    "y = features['Property Crime']\n",
    "x = features[['Population', 'PopSq', 'Murder_categorical', 'Robbery_categorical']]\n",
    "\n",
    "# Fit our model to our data.\n",
    "regr.fit(x, y)\n",
    "\n",
    "# Display the attributes we calculated.\n",
    "print('Coefficients: ', regr.coef_)\n",
    "print('Intercept: ', regr.intercept_)\n",
    "print(regr.score(x, y))"
   ]
  },
  {
   "cell_type": "code",
   "execution_count": 48,
   "metadata": {},
   "outputs": [
    {
     "data": {
      "image/png": "[encoded data removed]",
      "text/plain": [
       "<Figure size 432x288 with 1 Axes>"
      ]
     },
     "metadata": {},
     "output_type": "display_data"
    }
   ],
   "source": [
    "# Extract predicted values.\n",
    "predicted = regr.predict(x).ravel()\n",
    "actual = features['Property Crime']\n",
    "\n",
    "# Calculate the error, also called the residual.\n",
    "residual = actual - predicted\n",
    "\n",
    "plt.hist(residual)\n",
    "plt.xlabel('Residual')\n",
    "plt.ylabel('Count')\n",
    "plt.title('Residual Counts')\n",
    "plt.show()"
   ]
  },
  {
   "cell_type": "code",
   "execution_count": 49,
   "metadata": {},
   "outputs": [
    {
     "data": {
      "image/png": "[encoded data removed]",
      "text/plain": [
       "<Figure size 432x288 with 1 Axes>"
      ]
     },
     "metadata": {},
     "output_type": "display_data"
    }
   ],
   "source": [
    "plt.scatter(predicted, residual)\n",
    "plt.xlabel('Predicted')\n",
    "plt.ylabel('Residual')\n",
    "plt.axhline(y=0)\n",
    "plt.title('Residual vs. Predicted')\n",
    "plt.show()"
   ]
  },
  {
   "cell_type": "code",
   "execution_count": 50,
   "metadata": {},
   "outputs": [
    {
     "data": {
      "text/html": [
       "<div>\n",
       "<style scoped>\n",
       "    .dataframe tbody tr th:only-of-type {\n",
       "        vertical-align: middle;\n",
       "    }\n",
       "\n",
       "    .dataframe tbody tr th {\n",
       "        vertical-align: top;\n",
       "    }\n",
       "\n",
       "    .dataframe thead th {\n",
       "        text-align: right;\n",
       "    }\n",
       "</style>\n",
       "<table border=\"1\" class=\"dataframe\">\n",
       "  <thead>\n",
       "    <tr style=\"text-align: right;\">\n",
       "      <th></th>\n",
       "      <th>Population</th>\n",
       "      <th>PopSq</th>\n",
       "      <th>Murder_categorical</th>\n",
       "      <th>Robbery_categorical</th>\n",
       "    </tr>\n",
       "  </thead>\n",
       "  <tbody>\n",
       "    <tr>\n",
       "      <th>Population</th>\n",
       "      <td>1.000</td>\n",
       "      <td>0.889</td>\n",
       "      <td>0.503</td>\n",
       "      <td>0.344</td>\n",
       "    </tr>\n",
       "    <tr>\n",
       "      <th>PopSq</th>\n",
       "      <td>0.889</td>\n",
       "      <td>1.000</td>\n",
       "      <td>0.345</td>\n",
       "      <td>0.152</td>\n",
       "    </tr>\n",
       "    <tr>\n",
       "      <th>Murder_categorical</th>\n",
       "      <td>0.503</td>\n",
       "      <td>0.345</td>\n",
       "      <td>1.000</td>\n",
       "      <td>0.311</td>\n",
       "    </tr>\n",
       "    <tr>\n",
       "      <th>Robbery_categorical</th>\n",
       "      <td>0.344</td>\n",
       "      <td>0.152</td>\n",
       "      <td>0.311</td>\n",
       "      <td>1.000</td>\n",
       "    </tr>\n",
       "  </tbody>\n",
       "</table>\n",
       "</div>"
      ],
      "text/plain": [
       "                     Population  PopSq  Murder_categorical  \\\n",
       "Population                1.000  0.889               0.503   \n",
       "PopSq                     0.889  1.000               0.345   \n",
       "Murder_categorical        0.503  0.345               1.000   \n",
       "Robbery_categorical       0.344  0.152               0.311   \n",
       "\n",
       "                     Robbery_categorical  \n",
       "Population                         0.344  \n",
       "PopSq                              0.152  \n",
       "Murder_categorical                 0.311  \n",
       "Robbery_categorical                1.000  "
      ]
     },
     "metadata": {},
     "output_type": "display_data"
    }
   ],
   "source": [
    "#Correlation Matrix\\n\",\n",
    "correlation_matrix = x.corr()\n",
    "display(correlation_matrix)"
   ]
  },
  {
   "cell_type": "code",
   "execution_count": 51,
   "metadata": {
    "scrolled": true
   },
   "outputs": [
    {
     "data": {
      "text/plain": [
       "<matplotlib.axes._subplots.AxesSubplot at 0x1a1ca91438>"
      ]
     },
     "execution_count": 51,
     "metadata": {},
     "output_type": "execute_result"
    },
    {
     "data": {
      "image/png": "[encoded data removed]",
      "text/plain": [
       "<Figure size 432x288 with 2 Axes>"
      ]
     },
     "metadata": {},
     "output_type": "display_data"
    }
   ],
   "source": [
    "sns.heatmap(df.corr())"
   ]
  },
  {
   "cell_type": "code",
   "execution_count": null,
   "metadata": {},
   "outputs": [],
   "source": [
    "#PCA"
   ]
  },
  {
   "cell_type": "code",
   "execution_count": 52,
   "metadata": {},
   "outputs": [
    {
     "data": {
      "text/html": [
       "<div>\n",
       "<style scoped>\n",
       "    .dataframe tbody tr th:only-of-type {\n",
       "        vertical-align: middle;\n",
       "    }\n",
       "\n",
       "    .dataframe tbody tr th {\n",
       "        vertical-align: top;\n",
       "    }\n",
       "\n",
       "    .dataframe thead th {\n",
       "        text-align: right;\n",
       "    }\n",
       "</style>\n",
       "<table border=\"1\" class=\"dataframe\">\n",
       "  <thead>\n",
       "    <tr style=\"text-align: right;\">\n",
       "      <th></th>\n",
       "      <th>Population</th>\n",
       "      <th>PopSq</th>\n",
       "      <th>Murder_categorical</th>\n",
       "      <th>Robbery_categorical</th>\n",
       "    </tr>\n",
       "  </thead>\n",
       "  <tbody>\n",
       "    <tr>\n",
       "      <th>0</th>\n",
       "      <td>1861.000</td>\n",
       "      <td>3463321.000</td>\n",
       "      <td>0</td>\n",
       "      <td>0</td>\n",
       "    </tr>\n",
       "    <tr>\n",
       "      <th>1</th>\n",
       "      <td>2577.000</td>\n",
       "      <td>6640929.000</td>\n",
       "      <td>0</td>\n",
       "      <td>0</td>\n",
       "    </tr>\n",
       "    <tr>\n",
       "      <th>2</th>\n",
       "      <td>2846.000</td>\n",
       "      <td>8099716.000</td>\n",
       "      <td>0</td>\n",
       "      <td>0</td>\n",
       "    </tr>\n",
       "    <tr>\n",
       "      <th>3</th>\n",
       "      <td>97956.000</td>\n",
       "      <td>9595377936.000</td>\n",
       "      <td>1</td>\n",
       "      <td>1</td>\n",
       "    </tr>\n",
       "    <tr>\n",
       "      <th>4</th>\n",
       "      <td>6388.000</td>\n",
       "      <td>40806544.000</td>\n",
       "      <td>0</td>\n",
       "      <td>1</td>\n",
       "    </tr>\n",
       "  </tbody>\n",
       "</table>\n",
       "</div>"
      ],
      "text/plain": [
       "   Population          PopSq  Murder_categorical  Robbery_categorical\n",
       "0    1861.000    3463321.000                   0                    0\n",
       "1    2577.000    6640929.000                   0                    0\n",
       "2    2846.000    8099716.000                   0                    0\n",
       "3   97956.000 9595377936.000                   1                    1\n",
       "4    6388.000   40806544.000                   0                    1"
      ]
     },
     "execution_count": 52,
     "metadata": {},
     "output_type": "execute_result"
    }
   ],
   "source": [
    "#Features data\n",
    "x_data = x\n",
    "x_data.head(5)"
   ]
  },
  {
   "cell_type": "code",
   "execution_count": 53,
   "metadata": {},
   "outputs": [
    {
     "data": {
      "text/plain": [
       "(347, 4)"
      ]
     },
     "execution_count": 53,
     "metadata": {},
     "output_type": "execute_result"
    }
   ],
   "source": [
    "#Features shape\n",
    "x_data.shape"
   ]
  },
  {
   "cell_type": "code",
   "execution_count": 54,
   "metadata": {},
   "outputs": [
    {
     "data": {
      "text/plain": [
       "0     12.000\n",
       "1     24.000\n",
       "2     16.000\n",
       "3   4090.000\n",
       "4    223.000\n",
       "Name: Property Crime, dtype: float64"
      ]
     },
     "execution_count": 54,
     "metadata": {},
     "output_type": "execute_result"
    }
   ],
   "source": [
    "#Target data\n",
    "y_target = y\n",
    "y_target.head(5)"
   ]
  },
  {
   "cell_type": "code",
   "execution_count": 55,
   "metadata": {},
   "outputs": [
    {
     "data": {
      "text/plain": [
       "(347,)"
      ]
     },
     "execution_count": 55,
     "metadata": {},
     "output_type": "execute_result"
    }
   ],
   "source": [
    "#Target shape\n",
    "y_target.shape"
   ]
  },
  {
   "cell_type": "code",
   "execution_count": 56,
   "metadata": {},
   "outputs": [],
   "source": [
    "from sklearn.model_selection import train_test_split\n",
    "\n",
    "# train/test data\n",
    "\n",
    "train_data, test_data, train_target, test_target = train_test_split(\n",
    "    x_data, y_target, test_size=0.20, random_state=0)\n",
    "\n",
    "#Scaling data\n",
    "scaler = StandardScaler()\n",
    "\n",
    "#Fit on training set only\n",
    "scaler.fit(train_data)\n",
    "\n",
    "#Applying transform to both the training and test set\n",
    "train_data = scaler.transform(train_data)\n",
    "test_data = scaler.transform(test_data)"
   ]
  },
  {
   "cell_type": "code",
   "execution_count": 57,
   "metadata": {},
   "outputs": [],
   "source": [
    "#PCA\n",
    "pca = PCA(n_components=2)"
   ]
  },
  {
   "cell_type": "code",
   "execution_count": 58,
   "metadata": {},
   "outputs": [
    {
     "data": {
      "text/plain": [
       "PCA(copy=True, iterated_power='auto', n_components=2, random_state=None,\n",
       "  svd_solver='auto', tol=0.0, whiten=False)"
      ]
     },
     "execution_count": 58,
     "metadata": {},
     "output_type": "execute_result"
    }
   ],
   "source": [
    "#Fitting PCA to training set only\n",
    "pca.fit(train_data)"
   ]
  },
  {
   "cell_type": "code",
   "execution_count": 59,
   "metadata": {},
   "outputs": [],
   "source": [
    "#Applying mapping transfer to both training and test sets\n",
    "train_data = pca.transform(train_data)\n",
    "test_data = pca.transform(test_data)"
   ]
  },
  {
   "cell_type": "code",
   "execution_count": 60,
   "metadata": {},
   "outputs": [],
   "source": [
    "#Instantiate our model\n",
    "regr = linear_model.LinearRegression()"
   ]
  },
  {
   "cell_type": "code",
   "execution_count": 61,
   "metadata": {},
   "outputs": [
    {
     "data": {
      "text/plain": [
       "LinearRegression(copy_X=True, fit_intercept=True, n_jobs=1, normalize=False)"
      ]
     },
     "execution_count": 61,
     "metadata": {},
     "output_type": "execute_result"
    }
   ],
   "source": [
    "# Fit our model to our data. It's learning the relationship between the data and the target\n",
    "regr.fit(train_data, train_target)"
   ]
  },
  {
   "cell_type": "code",
   "execution_count": 64,
   "metadata": {},
   "outputs": [
    {
     "name": "stdout",
     "output_type": "stream",
     "text": [
      "Coefficients:  [537.87122408 272.6870899 ]\n",
      "Intercept:  371.72563176895306\n",
      "0.8086515156212409\n"
     ]
    }
   ],
   "source": [
    "#Display the attributes we calculated.\n",
    "print('Coefficients: ', regr.coef_)\n",
    "print('Intercept: ', regr.intercept_)\n",
    "print(regr.score(train_data, train_target))"
   ]
  },
  {
   "cell_type": "code",
   "execution_count": 65,
   "metadata": {},
   "outputs": [
    {
     "data": {
      "text/plain": [
       "array([ 4.72309230e+01,  1.52875259e+03,  1.73805773e+03,  6.12689273e+01,\n",
       "        5.71028544e+01,  4.67221444e+01,  5.95375815e+02,  3.57973808e+02,\n",
       "        2.32376621e+01,  6.60994170e+01,  9.43977434e+01,  3.26234755e+02,\n",
       "        4.83743914e+01,  1.73639241e+02,  6.74647863e+01,  1.33010171e+02,\n",
       "        1.56800499e+02,  6.19320280e+01,  2.29250799e+02,  2.04829964e+02,\n",
       "        4.64639170e+01,  8.72705839e+01,  6.53197170e+02,  6.60186291e+01,\n",
       "        4.58224621e+01,  5.57747263e+01,  2.79615206e+01,  3.69242163e+02,\n",
       "        6.39428930e+01,  3.53014837e+02, -1.98964369e+00,  1.13713209e+02,\n",
       "        1.45678615e+02,  4.64795659e+01,  1.47850869e+02,  2.25613507e+02,\n",
       "        3.91440151e+01,  7.16005866e+01,  2.73718439e+02,  6.71312617e+01,\n",
       "        6.38459486e+01,  1.13376948e+02,  4.68082346e+01,  9.88065980e+01,\n",
       "        2.42582589e+02,  5.76067242e+01,  1.99441515e+02,  9.27263231e+02,\n",
       "        1.42732565e+02,  7.48355075e+03,  4.32082585e+01,  1.38962991e+02,\n",
       "        3.38995611e+03,  1.51980625e+02,  2.12700188e+01,  1.29856799e+02,\n",
       "        1.01795636e+02,  1.31737488e+03,  2.28374011e+03,  7.66752106e+01,\n",
       "        5.06730497e+02,  3.28607970e+01,  1.15287449e+02,  5.66572009e+01,\n",
       "        1.25555622e+02,  1.63074721e+02,  1.10473900e+01,  3.93152526e+01,\n",
       "        4.79513551e+01,  3.09119512e+02])"
      ]
     },
     "execution_count": 65,
     "metadata": {},
     "output_type": "execute_result"
    }
   ],
   "source": [
    "# Predict for One Observation\n",
    "regr.predict(test_data)"
   ]
  },
  {
   "cell_type": "code",
   "execution_count": 66,
   "metadata": {},
   "outputs": [
    {
     "data": {
      "text/plain": [
       "0.8901468228202812"
      ]
     },
     "execution_count": 66,
     "metadata": {},
     "output_type": "execute_result"
    }
   ],
   "source": [
    "# Measuring model performance\n",
    "regr.score(test_data, test_target)"
   ]
  },
  {
   "cell_type": "code",
   "execution_count": 67,
   "metadata": {},
   "outputs": [
    {
     "name": "stdout",
     "output_type": "stream",
     "text": [
      "[ 0.83323789 -0.09101579  0.68563463  0.9227652   0.80984435]\n"
     ]
    }
   ],
   "source": [
    "from sklearn.model_selection import cross_val_score\n",
    "scores = cross_val_score(regr, test_data, test_target, cv=5)\n",
    "print(scores)"
   ]
  },
  {
   "cell_type": "code",
   "execution_count": 70,
   "metadata": {},
   "outputs": [
    {
     "name": "stdout",
     "output_type": "stream",
     "text": [
      "Accuracy: 0.63 (+/- 0.74)\n"
     ]
    }
   ],
   "source": [
    "print(\"Accuracy: %0.2f (+/- %0.2f)\" % (scores.mean(), scores.std() * 2))"
   ]
  },
  {
   "cell_type": "code",
   "execution_count": null,
   "metadata": {},
   "outputs": [],
   "source": []
  }
 ],
 "metadata": {
  "kernelspec": {
   "display_name": "Python 3",
   "language": "python",
   "name": "python3"
  },
  "language_info": {
   "codemirror_mode": {
    "name": "ipython",
    "version": 3
   },
   "file_extension": ".py",
   "mimetype": "text/x-python",
   "name": "python",
   "nbconvert_exporter": "python",
   "pygments_lexer": "ipython3",
   "version": "3.6.5"
  }
 },
 "nbformat": 4,
 "nbformat_minor": 2
}
